{
 "cells": [
  {
   "cell_type": "markdown",
   "metadata": {},
   "source": [
    "https://github.com/bokeh/bokeh/blob/master/examples/howto/layouts/dashboard.py"
   ]
  },
  {
   "cell_type": "code",
   "execution_count": 1,
   "metadata": {},
   "outputs": [],
   "source": [
    "import numpy as np\n",
    "\n",
    "from bokeh.layouts import column, grid\n",
    "from bokeh.models import ColumnDataSource, CustomJS, Slider\n",
    "from bokeh.plotting import figure, output_file, show"
   ]
  },
  {
   "cell_type": "code",
   "execution_count": 2,
   "metadata": {},
   "outputs": [],
   "source": [
    "output_file('dashboard.html')\n",
    "\n",
    "tools = 'pan'"
   ]
  },
  {
   "cell_type": "code",
   "execution_count": 3,
   "metadata": {},
   "outputs": [],
   "source": [
    "def bollinger():\n",
    "    # Define Bollinger Bands.\n",
    "    upperband = np.random.randint(100, 150+1, size=100)\n",
    "    lowerband = upperband - 100\n",
    "    x_data = np.arange(1, 101)\n",
    "\n",
    "    # Bollinger shading glyph:\n",
    "    band_x = np.append(x_data, x_data[::-1])\n",
    "    band_y = np.append(lowerband, upperband[::-1])\n",
    "\n",
    "    p = figure(x_axis_type='datetime', tools=tools)\n",
    "    p.patch(band_x, band_y, color='#7570B3', fill_alpha=0.2)\n",
    "\n",
    "    p.title.text = 'Bollinger Bands'\n",
    "    p.title_location = 'left'\n",
    "    p.title.align = 'left'\n",
    "    p.plot_height = 600\n",
    "    p.plot_width = 800\n",
    "    p.grid.grid_line_alpha = 0.4\n",
    "    return [p]"
   ]
  },
  {
   "cell_type": "code",
   "execution_count": 4,
   "metadata": {},
   "outputs": [],
   "source": [
    "def slider():\n",
    "    x = np.linspace(0, 10, 100)\n",
    "    y = np.sin(x)\n",
    "\n",
    "    source = ColumnDataSource(data=dict(x=x, y=y))\n",
    "\n",
    "    plot = figure(\n",
    "        y_range=(-10, 10), tools='', toolbar_location=None,\n",
    "        title=\"Sliders example\")\n",
    "    plot.line('x', 'y', source=source, line_width=3, line_alpha=0.6)\n",
    "\n",
    "    amp_slider = Slider(start=0.1, end=10, value=1, step=.1, title=\"Amplitude\")\n",
    "    freq_slider = Slider(start=0.1, end=10, value=1, step=.1, title=\"Frequency\")\n",
    "    phase_slider = Slider(start=0, end=6.4, value=0, step=.1, title=\"Phase\")\n",
    "    offset_slider = Slider(start=-5, end=5, value=0, step=.1, title=\"Offset\")\n",
    "\n",
    "    callback = CustomJS(args=dict(source=source, amp=amp_slider, freq=freq_slider, phase=phase_slider, offset=offset_slider),\n",
    "                        code=\"\"\"\n",
    "        const data = source.data;\n",
    "        const A = amp.value;\n",
    "        const k = freq.value;\n",
    "        const phi = phase.value;\n",
    "        const B = offset.value;\n",
    "        const x = data['x']\n",
    "        const y = data['y']\n",
    "        for (var i = 0; i < x.length; i++) {\n",
    "            y[i] = B + A*Math.sin(k*x[i]+phi);\n",
    "        }\n",
    "        source.change.emit();\n",
    "    \"\"\")\n",
    "\n",
    "    amp_slider.js_on_change('value', callback)\n",
    "    freq_slider.js_on_change('value', callback)\n",
    "    phase_slider.js_on_change('value', callback)\n",
    "    offset_slider.js_on_change('value', callback)\n",
    "\n",
    "    widgets = column(amp_slider, freq_slider, phase_slider, offset_slider)\n",
    "    return [widgets, plot]"
   ]
  },
  {
   "cell_type": "code",
   "execution_count": 5,
   "metadata": {},
   "outputs": [],
   "source": [
    "def linked_panning():\n",
    "    N = 100\n",
    "    x = np.linspace(0, 4 * np.pi, N)\n",
    "    y1 = np.sin(x)\n",
    "    y2 = np.cos(x)\n",
    "    y3 = np.sin(x) + np.cos(x)\n",
    "\n",
    "    s1 = figure(tools=tools)\n",
    "    s1.circle(x, y1, color=\"navy\", size=8, alpha=0.5)\n",
    "    s2 = figure(tools=tools, x_range=s1.x_range, y_range=s1.y_range)\n",
    "    s2.circle(x, y2, color=\"firebrick\", size=8, alpha=0.5)\n",
    "    s3 = figure(tools='pan, box_select', x_range=s1.x_range)\n",
    "    s3.circle(x, y3, color=\"olive\", size=8, alpha=0.5)\n",
    "    return [s1, s2, s3]"
   ]
  },
  {
   "cell_type": "code",
   "execution_count": 6,
   "metadata": {},
   "outputs": [],
   "source": [
    "l = grid([\n",
    "    bollinger(),\n",
    "    slider(),\n",
    "    linked_panning(),\n",
    "], sizing_mode='stretch_both')"
   ]
  },
  {
   "cell_type": "code",
   "execution_count": null,
   "metadata": {},
   "outputs": [],
   "source": [
    "show(l)"
   ]
  },
  {
   "cell_type": "code",
   "execution_count": null,
   "metadata": {},
   "outputs": [],
   "source": []
  }
 ],
 "metadata": {
  "kernelspec": {
   "display_name": "Python 3",
   "language": "python",
   "name": "python3"
  },
  "language_info": {
   "codemirror_mode": {
    "name": "ipython",
    "version": 3
   },
   "file_extension": ".py",
   "mimetype": "text/x-python",
   "name": "python",
   "nbconvert_exporter": "python",
   "pygments_lexer": "ipython3",
   "version": "3.8.1"
  }
 },
 "nbformat": 4,
 "nbformat_minor": 4
}
