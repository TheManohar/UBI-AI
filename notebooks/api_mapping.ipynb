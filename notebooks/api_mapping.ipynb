{
 "cells": [
  {
   "cell_type": "code",
   "execution_count": 1,
   "metadata": {},
   "outputs": [],
   "source": [
    "import os, sys\n",
    "import requests\n",
    "import pandas as pd\n",
    "import numpy as np\n",
    "#from fbprophet import Prophet\n",
    "%matplotlib inline\n",
    "from matplotlib import pyplot as plt\n",
    "import seaborn as sns"
   ]
  },
  {
   "cell_type": "code",
   "execution_count": 2,
   "metadata": {},
   "outputs": [
    {
     "name": "stdout",
     "output_type": "stream",
     "text": [
      "http://ec.europa.eu/eurostat/wdds/rest/data/v2.1/json/en\n"
     ]
    }
   ],
   "source": [
    "PROTOCOL        = \"http\"\n",
    "API_LANG        = \"en\"\n",
    "API_FMT         = \"json\"\n",
    "API_DOMAIN      = 'ec.europa.eu/eurostat/wdds'\n",
    "API_VERS        = 2.1\n",
    "API_URL         = \"{}://{}/rest/data/v{}/{}/{}\".format(PROTOCOL, \n",
    "                                                       API_DOMAIN, \n",
    "                                                       API_VERS, \n",
    "                                                       API_FMT, \n",
    "                                                       API_LANG\n",
    "                                                      )\n",
    "print(API_URL)"
   ]
  },
  {
   "cell_type": "code",
   "execution_count": 3,
   "metadata": {},
   "outputs": [],
   "source": [
    "GEO             = \"EU28\"\n",
    "# TIME : all\n",
    "INDICATOR       = (u'tour_occ_nim', \"Tour accomodation\")\n",
    "UNIT            = (u'NR', \"Number of nights\")\n",
    "NACE_R2         = (u'I551', \"Hotels; holiday and other short-stay accommodation...\")\n",
    "INDIC_TO        = (u'B006', \"Nights spent, total\")"
   ]
  },
  {
   "cell_type": "code",
   "execution_count": 4,
   "metadata": {},
   "outputs": [
    {
     "name": "stdout",
     "output_type": "stream",
     "text": [
      "http://ec.europa.eu/eurostat/wdds/rest/data/v2.1/json/en/tour_occ_nim?geo=EU28&unit=NR&nace_r2=I551&indic_to=B006\n"
     ]
    }
   ],
   "source": [
    "url             = \"{}/{}?geo={}&unit={}&nace_r2={}&indic_to={}\".format(\n",
    "                  API_URL, INDICATOR[0], GEO, UNIT[0], NACE_R2[0], INDIC_TO[0])\n",
    "print(url)"
   ]
  },
  {
   "cell_type": "code",
   "execution_count": 5,
   "metadata": {},
   "outputs": [],
   "source": [
    "#url='https://ec.europa.eu/eurostat/wdds/rest/data/v2.1/json/en/tour_occ_nim?format=csv'"
   ]
  },
  {
   "cell_type": "code",
   "execution_count": 6,
   "metadata": {},
   "outputs": [],
   "source": [
    "#import csv\n",
    "#import io\n",
    "#import requests\n",
    "#\n",
    "##url = \"http://samplecsvs.s3.amazonaws.com/Sacramentorealestatetransactions.csv\"\n",
    "#url='https://ec.europa.eu/eurostat/wdds/rest/data/v2.1/json/en/tour_occ_nim?format=csv'\n",
    "#r = requests.get(url)\n",
    "#r.encoding = 'utf-8'  # useful if encoding is not sent (or not sent properly) by the server\n",
    "#csvio = io.StringIO(r.text, newline=\"\")\n",
    "#data = []\n",
    "#for row in csv.DictReader(csvio):\n",
    "#    data.append(row)"
   ]
  },
  {
   "cell_type": "code",
   "execution_count": 7,
   "metadata": {},
   "outputs": [],
   "source": [
    "#with requests.Session() as s:\n",
    "#    download = s.get(url)\n",
    "#\n",
    "#    decoded_content = download.content.decode('utf-8')\n",
    "#\n",
    "#    cr = csv.reader(decoded_content.splitlines(), delimiter=',')\n",
    "#    my_list = list(cr)\n",
    "#    for row in my_list[:500]:\n",
    "#        print(row)"
   ]
  },
  {
   "cell_type": "code",
   "execution_count": 8,
   "metadata": {},
   "outputs": [],
   "source": [
    "url = 'https://ec.europa.eu/eurostat/api/dissemination/catalogue/catalogue.wadl'"
   ]
  },
  {
   "cell_type": "code",
   "execution_count": 9,
   "metadata": {},
   "outputs": [
    {
     "name": "stdout",
     "output_type": "stream",
     "text": [
      "OK: status=200\n"
     ]
    }
   ],
   "source": [
    "session = requests.session()\n",
    "try:\n",
    "    response = session.head(url)\n",
    "    response.raise_for_status()\n",
    "except:\n",
    "    raise IOError(\"ERROR: wrong request formulated\")  \n",
    "else:\n",
    "    print (\"OK: status={}\".format(response.status_code))\n",
    "    \n",
    "try:    \n",
    "    response = session.get(url)\n",
    "except:\n",
    "    raise IOError('error retrieveing response from URL')"
   ]
  },
  {
   "cell_type": "code",
   "execution_count": 10,
   "metadata": {},
   "outputs": [
    {
     "data": {
      "text/plain": [
       "{'Date': 'Mon, 27 Jan 2020 14:22:36 GMT', 'Transfer-Encoding': 'chunked', 'Content-Type': 'application/vnd.sun.wadl+xml', 'Last-Modified': 'Mon, 27 Jan 2020 14:22:36 GMT', 'Connection': 'Keep-Alive'}"
      ]
     },
     "execution_count": 10,
     "metadata": {},
     "output_type": "execute_result"
    }
   ],
   "source": [
    "response.headers"
   ]
  },
  {
   "cell_type": "code",
   "execution_count": 11,
   "metadata": {},
   "outputs": [
    {
     "data": {
      "text/plain": [
       "b'\\n\\n<ns0:application xsi:schemaLocation=\"http://wadl.dev.java.net/2009/02 wadl.xsd\" xmlns:ns0=\"http://wadl.dev.java.net/2009/02\" xmlns:message=\"http://www.sdmx.org/resources/sdmxml/schemas/v2_1/message\" xmlns:types=\"http://www.sdmx.org/resources/sdmxml/schemas/v2_1/types\" xmlns:xsi=\"http://www.w3.org/2001/XMLSchema-instance\" xmlns:xsd=\"http://www.w3.org/2001/XMLSchema\" xmlns:common=\"http://www.sdmx.org/resources/sdmxml/schemas/v2_1/common\">\\n   <ns0:doc xmlns:ns1=\"http://jersey.java.net/\" ns1:generatedBy=\"Jersey: 2.22.4 2016-11-30 13:33:53\"/>\\n   <ns0:doc xmlns:ns2=\"http://jersey.java.net/\" ns2:hint=\"This is full WADL including extended resources. To get simplified WADL with users resources only do not use the query parameter detail. Link: https://ec.europa.eu/eurostat/api/dissemination/catalogue/catalogue.wadl\"/>\\n   <ns0:grammars>\\n      <ns0:doc title=\"grammarDoc\" xml:lang=\"en\">The SDMXMessage.xsd is used to import all SDMXML types so as to be referenced in the WADL.The SDMXRestTypes.xsd defines various types used by the WADL\\'s parameters e.g. key pattern, latest and all values.</ns0:doc>\\n      <ns0:include href=\"/sdmx/2.1/xsd/SDMXMessage.xsd\"/>\\n      <ns0:include href=\"/sdmx/2.1/xsd/SDMXRestTypes.xsd\"/>\\n   </ns0:grammars>\\n   <ns0:resources base=\"https://ec.europa.eu/eurostat/api/\">\\n      <ns0:resource path=\"dissemination/catalogue/\">\\n         <ns0:resource path=\"dcat/{agencyId}{extractionType:(/.*)?}\">\\n            <ns0:param name=\"extractionType\" style=\"template\" type=\"xsd:string\"/>\\n            <ns0:param name=\"agencyId\" style=\"template\" type=\"xsd:string\"/>\\n            <ns0:method id=\"getDcatRdf\" name=\"GET\">\\n               <ns0:response>\\n                  <ns0:representation mediaType=\"application/octet-stream\"/>\\n               </ns0:response>\\n            </ns0:method>\\n            <ns0:method id=\"apply\" name=\"OPTIONS\">\\n               <ns0:request>\\n                  <ns0:representation mediaType=\"*/*\"/>\\n               </ns0:request>\\n               <ns0:response>\\n                  <ns0:representation mediaType=\"application/vnd.sun.wadl+xml\"/>\\n               </ns0:response>\\n               <ns3:extended xmlns:ns3=\"http://jersey.java.net/\">true</ns3:extended>\\n            </ns0:method>\\n            <ns0:method id=\"apply\" name=\"OPTIONS\">\\n               <ns0:request>\\n                  <ns0:representation mediaType=\"*/*\"/>\\n               </ns0:request>\\n               <ns0:response>\\n                  <ns0:representation mediaType=\"text/plain\"/>\\n               </ns0:response>\\n               <ns4:extended xmlns:ns4=\"http://jersey.java.net/\">true</ns4:extended>\\n            </ns0:method>\\n            <ns0:method id=\"apply\" name=\"OPTIONS\">\\n               <ns0:request>\\n                  <ns0:representation mediaType=\"*/*\"/>\\n               </ns0:request>\\n               <ns0:response>\\n                  <ns0:representation mediaType=\"*/*\"/>\\n               </ns0:response>\\n               <ns5:extended xmlns:ns5=\"http://jersey.java.net/\">true</ns5:extended>\\n            </ns0:method>\\n         </ns0:resource>\\n         <ns0:resource path=\"toc/xml\">\\n            <ns0:method id=\"getTocXml\" name=\"GET\">\\n               <ns0:response>\\n                  <ns0:representation mediaType=\"application/octet-stream\"/>\\n               </ns0:response>\\n            </ns0:method>\\n            <ns0:method id=\"apply\" name=\"OPTIONS\">\\n               <ns0:request>\\n                  <ns0:representation mediaType=\"*/*\"/>\\n               </ns0:request>\\n               <ns0:response>\\n                  <ns0:representation mediaType=\"application/vnd.sun.wadl+xml\"/>\\n               </ns0:response>\\n               <ns6:extended xmlns:ns6=\"http://jersey.java.net/\">true</ns6:extended>\\n            </ns0:method>\\n            <ns0:method id=\"apply\" name=\"OPTIONS\">\\n               <ns0:request>\\n                  <ns0:representation mediaType=\"*/*\"/>\\n               </ns0:request>\\n               <ns0:response>\\n                  <ns0:representation mediaType=\"text/plain\"/>\\n               </ns0:response>\\n               <ns7:extended xmlns:ns7=\"http://jersey.java.net/\">true</ns7:extended>\\n            </ns0:method>\\n            <ns0:method id=\"apply\" name=\"OPTIONS\">\\n               <ns0:request>\\n                  <ns0:representation mediaType=\"*/*\"/>\\n               </ns0:request>\\n               <ns0:response>\\n                  <ns0:representation mediaType=\"*/*\"/>\\n               </ns0:response>\\n               <ns8:extended xmlns:ns8=\"http://jersey.java.net/\">true</ns8:extended>\\n            </ns0:method>\\n         </ns0:resource>\\n         <ns0:resource path=\"toc/txt\">\\n            <ns0:method id=\"getTocTxt\" name=\"GET\">\\n               <ns0:request>\\n                  <ns0:param name=\"lang\" style=\"query\" type=\"common:langType\"/>\\n               </ns0:request>\\n               <ns0:response>\\n                  <ns0:representation mediaType=\"application/octet-stream\"/>\\n               </ns0:response>\\n            </ns0:method>\\n            <ns0:method id=\"apply\" name=\"OPTIONS\">\\n               <ns0:request>\\n                  <ns0:representation mediaType=\"*/*\"/>\\n               </ns0:request>\\n               <ns0:response>\\n                  <ns0:representation mediaType=\"application/vnd.sun.wadl+xml\"/>\\n               </ns0:response>\\n               <ns9:extended xmlns:ns9=\"http://jersey.java.net/\">true</ns9:extended>\\n            </ns0:method>\\n            <ns0:method id=\"apply\" name=\"OPTIONS\">\\n               <ns0:request>\\n                  <ns0:representation mediaType=\"*/*\"/>\\n               </ns0:request>\\n               <ns0:response>\\n                  <ns0:representation mediaType=\"text/plain\"/>\\n               </ns0:response>\\n               <ns10:extended xmlns:ns10=\"http://jersey.java.net/\">true</ns10:extended>\\n            </ns0:method>\\n            <ns0:method id=\"apply\" name=\"OPTIONS\">\\n               <ns0:request>\\n                  <ns0:representation mediaType=\"*/*\"/>\\n               </ns0:request>\\n               <ns0:response>\\n                  <ns0:representation mediaType=\"*/*\"/>\\n               </ns0:response>\\n               <ns11:extended xmlns:ns11=\"http://jersey.java.net/\">true</ns11:extended>\\n            </ns0:method>\\n         </ns0:resource>\\n         <ns0:resource path=\"toc/toc.xsd\">\\n            <ns0:method id=\"getTocXsd\" name=\"GET\">\\n               <ns0:response>\\n                  <ns0:representation mediaType=\"application/xml\"/>\\n               </ns0:response>\\n            </ns0:method>\\n            <ns0:method id=\"apply\" name=\"OPTIONS\">\\n               <ns0:request>\\n                  <ns0:representation mediaType=\"*/*\"/>\\n               </ns0:request>\\n               <ns0:response>\\n                  <ns0:representation mediaType=\"application/vnd.sun.wadl+xml\"/>\\n               </ns0:response>\\n               <ns12:extended xmlns:ns12=\"http://jersey.java.net/\">true</ns12:extended>\\n            </ns0:method>\\n            <ns0:method id=\"apply\" name=\"OPTIONS\">\\n               <ns0:request>\\n                  <ns0:representation mediaType=\"*/*\"/>\\n               </ns0:request>\\n               <ns0:response>\\n                  <ns0:representation mediaType=\"text/plain\"/>\\n               </ns0:response>\\n               <ns13:extended xmlns:ns13=\"http://jersey.java.net/\">true</ns13:extended>\\n            </ns0:method>\\n            <ns0:method id=\"apply\" name=\"OPTIONS\">\\n               <ns0:request>\\n                  <ns0:representation mediaType=\"*/*\"/>\\n               </ns0:request>\\n               <ns0:response>\\n                  <ns0:representation mediaType=\"*/*\"/>\\n               </ns0:response>\\n               <ns14:extended xmlns:ns14=\"http://jersey.java.net/\">true</ns14:extended>\\n            </ns0:method>\\n         </ns0:resource>\\n         <ns0:resource path=\"rss/{language}/rss.rss\">\\n            <ns0:param name=\"language\" style=\"template\" type=\"xsd:string\"/>\\n            <ns0:method id=\"getRss\" name=\"GET\">\\n               <ns0:response>\\n                  <ns0:representation mediaType=\"application/octet-stream\"/>\\n               </ns0:response>\\n            </ns0:method>\\n            <ns0:method id=\"apply\" name=\"OPTIONS\">\\n               <ns0:request>\\n                  <ns0:representation mediaType=\"*/*\"/>\\n               </ns0:request>\\n               <ns0:response>\\n                  <ns0:representation mediaType=\"application/vnd.sun.wadl+xml\"/>\\n               </ns0:response>\\n               <ns15:extended xmlns:ns15=\"http://jersey.java.net/\">true</ns15:extended>\\n            </ns0:method>\\n            <ns0:method id=\"apply\" name=\"OPTIONS\">\\n               <ns0:request>\\n                  <ns0:representation mediaType=\"*/*\"/>\\n               </ns0:request>\\n               <ns0:response>\\n                  <ns0:representation mediaType=\"text/plain\"/>\\n               </ns0:response>\\n               <ns16:extended xmlns:ns16=\"http://jersey.java.net/\">true</ns16:extended>\\n            </ns0:method>\\n            <ns0:method id=\"apply\" name=\"OPTIONS\">\\n               <ns0:request>\\n                  <ns0:representation mediaType=\"*/*\"/>\\n               </ns0:request>\\n               <ns0:response>\\n                  <ns0:representation mediaType=\"*/*\"/>\\n               </ns0:response>\\n               <ns17:extended xmlns:ns17=\"http://jersey.java.net/\">true</ns17:extended>\\n            </ns0:method>\\n         </ns0:resource>\\n      </ns0:resource>\\n   </ns0:resources>\\n</ns0:application>'"
      ]
     },
     "execution_count": 11,
     "metadata": {},
     "output_type": "execute_result"
    }
   ],
   "source": [
    "response.content"
   ]
  },
  {
   "cell_type": "code",
   "execution_count": 12,
   "metadata": {},
   "outputs": [],
   "source": [
    "with open(r'es_catalogue.txt','wb') as f:\n",
    "    f.write(response.content)"
   ]
  },
  {
   "cell_type": "code",
   "execution_count": null,
   "metadata": {},
   "outputs": [],
   "source": []
  }
 ],
 "metadata": {
  "kernelspec": {
   "display_name": "Python 3",
   "language": "python",
   "name": "python3"
  },
  "language_info": {
   "codemirror_mode": {
    "name": "ipython",
    "version": 3
   },
   "file_extension": ".py",
   "mimetype": "text/x-python",
   "name": "python",
   "nbconvert_exporter": "python",
   "pygments_lexer": "ipython3",
   "version": "3.8.1"
  }
 },
 "nbformat": 4,
 "nbformat_minor": 4
}
