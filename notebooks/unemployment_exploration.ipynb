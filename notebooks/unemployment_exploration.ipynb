{
 "cells": [
  {
   "cell_type": "markdown",
   "metadata": {},
   "source": [
    "# Definition of UBI"
   ]
  },
  {
   "cell_type": "markdown",
   "metadata": {},
   "source": [
    "A basic income, also called basic income guarantee, universal basic income (UBI), basic living stipend (BLS), or universal demogrant, is a type of program in which citizens (or permanent residents) of a country may receive a regular sum of money from a source such as the government. A pure or unconditional basic income has no means test, but unlike Social Security in the United States it is distributed automatically to all citizens without a requirement to notify changes in the citizen's financial status. Basic income can be implemented nationally, regionally or locally. The World Bank's World Development Report 2019 on the future of work describes the existing schemes around the world.\n",
    "\n",
    "An unconditional income that is sufficient to meet a person's basic needs (at or above the poverty line), is called full basic income, while if it is less than that amount, it is called partial.\n",
    "\n",
    "Source: [Wikipedia](https://en.wikipedia.org/wiki/Basic_income)"
   ]
  },
  {
   "cell_type": "code",
   "execution_count": 2,
   "metadata": {},
   "outputs": [],
   "source": [
    "# Library imports\n",
    "import pandas as pd\n",
    "import requests\n",
    "\n",
    "import numpy as np\n",
    "import seaborn as sns\n",
    "import matplotlib.pyplot as plt"
   ]
  },
  {
   "cell_type": "markdown",
   "metadata": {},
   "source": [
    "# Unemployment Analysis"
   ]
  },
  {
   "cell_type": "markdown",
   "metadata": {},
   "source": [
    "Data source: [Eurostat Database](http://appsso.eurostat.ec.europa.eu/nui/show.do?query=BOOKMARK_DS-055624_QID_3341A187_UID_-3F171EB0&layout=TIME,C,X,0;GEO,L,Y,0;S_ADJ,L,Z,0;AGE,L,Z,1;UNIT,L,Z,2;SEX,L,Z,3;INDICATORS,C,Z,4;&zSelection=DS-055624AGE,TOTAL;DS-055624INDICATORS,OBS_FLAG;DS-055624SEX,T;DS-055624S_ADJ,SA;DS-055624UNIT,PC_ACT;&rankName1=UNIT_1_2_-1_2&rankName2=AGE_1_2_-1_2&rankName3=INDICATORS_1_2_-1_2&rankName4=SEX_1_2_-1_2&rankName5=S-ADJ_1_2_-1_2&rankName6=TIME_1_0_0_0&rankName7=GEO_1_2_0_1&sortC=ASC_-1_FIRST&rStp=&cStp=&rDCh=&cDCh=&rDM=true&cDM=true&footnes=false&empty=false&wai=false&time_mode=FIXED&time_most_recent=true&lang=EN&cfo=%23%23%23%2C%23%23%23.%23%23%23)"
   ]
  },
  {
   "cell_type": "code",
   "execution_count": 9,
   "metadata": {
    "scrolled": true
   },
   "outputs": [],
   "source": [
    "BASE = 'http://ec.europa.eu/eurostat/wdds/rest/data/v2.1/json/en/'\n",
    "\n",
    "url = BASE + 'une_rt_m?geo=EU28&unit=THS_PER&'\n",
    "\n",
    "\n",
    "result = requests.get(url)\n",
    "j = result.json()"
   ]
  },
  {
   "cell_type": "code",
   "execution_count": 9,
   "metadata": {
    "scrolled": true
   },
   "outputs": [
    {
     "data": {
      "text/plain": [
       "dict"
      ]
     },
     "execution_count": 9,
     "metadata": {},
     "output_type": "execute_result"
    }
   ],
   "source": [
    "type(j)"
   ]
  },
  {
   "cell_type": "code",
   "execution_count": 49,
   "metadata": {
    "scrolled": true
   },
   "outputs": [],
   "source": [
    "df = pd.DataFrame.from_dict(j, orient='index')"
   ]
  },
  {
   "cell_type": "code",
   "execution_count": 50,
   "metadata": {},
   "outputs": [
    {
     "data": {
      "text/html": [
       "<div>\n",
       "<style scoped>\n",
       "    .dataframe tbody tr th:only-of-type {\n",
       "        vertical-align: middle;\n",
       "    }\n",
       "\n",
       "    .dataframe tbody tr th {\n",
       "        vertical-align: top;\n",
       "    }\n",
       "\n",
       "    .dataframe thead th {\n",
       "        text-align: right;\n",
       "    }\n",
       "</style>\n",
       "<table border=\"1\" class=\"dataframe\">\n",
       "  <thead>\n",
       "    <tr style=\"text-align: right;\">\n",
       "      <th></th>\n",
       "      <th>0</th>\n",
       "    </tr>\n",
       "  </thead>\n",
       "  <tbody>\n",
       "    <tr>\n",
       "      <th>version</th>\n",
       "      <td>2.0</td>\n",
       "    </tr>\n",
       "    <tr>\n",
       "      <th>label</th>\n",
       "      <td>Unemployment by sex and age - monthly average</td>\n",
       "    </tr>\n",
       "    <tr>\n",
       "      <th>href</th>\n",
       "      <td>http://ec.europa.eu/eurostat/wdds/rest/data/v2...</td>\n",
       "    </tr>\n",
       "    <tr>\n",
       "      <th>source</th>\n",
       "      <td>Eurostat</td>\n",
       "    </tr>\n",
       "    <tr>\n",
       "      <th>updated</th>\n",
       "      <td>2020-01-16</td>\n",
       "    </tr>\n",
       "    <tr>\n",
       "      <th>status</th>\n",
       "      <td>{'0': ':', '1': ':', '2': ':', '3': ':', '4': ...</td>\n",
       "    </tr>\n",
       "    <tr>\n",
       "      <th>extension</th>\n",
       "      <td>{'datasetId': 'une_rt_m', 'lang': 'EN', 'descr...</td>\n",
       "    </tr>\n",
       "    <tr>\n",
       "      <th>class</th>\n",
       "      <td>dataset</td>\n",
       "    </tr>\n",
       "    <tr>\n",
       "      <th>value</th>\n",
       "      <td>{'204': 10032, '205': 10373, '206': 10247, '20...</td>\n",
       "    </tr>\n",
       "    <tr>\n",
       "      <th>dimension</th>\n",
       "      <td>{'s_adj': {'label': 's_adj', 'category': {'ind...</td>\n",
       "    </tr>\n",
       "    <tr>\n",
       "      <th>id</th>\n",
       "      <td>[s_adj, age, unit, sex, geo, time]</td>\n",
       "    </tr>\n",
       "    <tr>\n",
       "      <th>size</th>\n",
       "      <td>[3, 3, 1, 3, 1, 444]</td>\n",
       "    </tr>\n",
       "  </tbody>\n",
       "</table>\n",
       "</div>"
      ],
      "text/plain": [
       "                                                           0\n",
       "version                                                  2.0\n",
       "label          Unemployment by sex and age - monthly average\n",
       "href       http://ec.europa.eu/eurostat/wdds/rest/data/v2...\n",
       "source                                              Eurostat\n",
       "updated                                           2020-01-16\n",
       "status     {'0': ':', '1': ':', '2': ':', '3': ':', '4': ...\n",
       "extension  {'datasetId': 'une_rt_m', 'lang': 'EN', 'descr...\n",
       "class                                                dataset\n",
       "value      {'204': 10032, '205': 10373, '206': 10247, '20...\n",
       "dimension  {'s_adj': {'label': 's_adj', 'category': {'ind...\n",
       "id                        [s_adj, age, unit, sex, geo, time]\n",
       "size                                    [3, 3, 1, 3, 1, 444]"
      ]
     },
     "execution_count": 50,
     "metadata": {},
     "output_type": "execute_result"
    }
   ],
   "source": [
    "df"
   ]
  },
  {
   "cell_type": "code",
   "execution_count": 72,
   "metadata": {},
   "outputs": [
    {
     "data": {
      "text/html": [
       "<div>\n",
       "<style scoped>\n",
       "    .dataframe tbody tr th:only-of-type {\n",
       "        vertical-align: middle;\n",
       "    }\n",
       "\n",
       "    .dataframe tbody tr th {\n",
       "        vertical-align: top;\n",
       "    }\n",
       "\n",
       "    .dataframe thead th {\n",
       "        text-align: right;\n",
       "    }\n",
       "</style>\n",
       "<table border=\"1\" class=\"dataframe\">\n",
       "  <thead>\n",
       "    <tr style=\"text-align: right;\">\n",
       "      <th></th>\n",
       "      <th>204</th>\n",
       "      <th>205</th>\n",
       "      <th>206</th>\n",
       "      <th>207</th>\n",
       "      <th>208</th>\n",
       "      <th>209</th>\n",
       "      <th>210</th>\n",
       "      <th>211</th>\n",
       "      <th>212</th>\n",
       "      <th>213</th>\n",
       "      <th>...</th>\n",
       "      <th>11977</th>\n",
       "      <th>11978</th>\n",
       "      <th>11979</th>\n",
       "      <th>11980</th>\n",
       "      <th>11981</th>\n",
       "      <th>11982</th>\n",
       "      <th>11983</th>\n",
       "      <th>11984</th>\n",
       "      <th>11985</th>\n",
       "      <th>11986</th>\n",
       "    </tr>\n",
       "  </thead>\n",
       "  <tbody>\n",
       "    <tr>\n",
       "      <th>0</th>\n",
       "      <td>10032</td>\n",
       "      <td>10373</td>\n",
       "      <td>10247</td>\n",
       "      <td>9966</td>\n",
       "      <td>9853</td>\n",
       "      <td>9822</td>\n",
       "      <td>9814</td>\n",
       "      <td>9875</td>\n",
       "      <td>9563</td>\n",
       "      <td>9699</td>\n",
       "      <td>...</td>\n",
       "      <td>3246</td>\n",
       "      <td>3220</td>\n",
       "      <td>3232</td>\n",
       "      <td>3236</td>\n",
       "      <td>3209</td>\n",
       "      <td>3249</td>\n",
       "      <td>3218</td>\n",
       "      <td>3227</td>\n",
       "      <td>3213</td>\n",
       "      <td>3217</td>\n",
       "    </tr>\n",
       "  </tbody>\n",
       "</table>\n",
       "<p>1 rows × 6453 columns</p>\n",
       "</div>"
      ],
      "text/plain": [
       "     204    205    206   207   208   209   210   211   212   213  ...  11977  \\\n",
       "0  10032  10373  10247  9966  9853  9822  9814  9875  9563  9699  ...   3246   \n",
       "\n",
       "   11978  11979  11980  11981  11982  11983  11984  11985  11986  \n",
       "0   3220   3232   3236   3209   3249   3218   3227   3213   3217  \n",
       "\n",
       "[1 rows x 6453 columns]"
      ]
     },
     "metadata": {},
     "output_type": "display_data"
    }
   ],
   "source": [
    "df_value = df.loc['value'].apply(pd.Series)\n",
    "\n",
    "display(df_value)"
   ]
  },
  {
   "cell_type": "code",
   "execution_count": 73,
   "metadata": {},
   "outputs": [
    {
     "data": {
      "text/html": [
       "<div>\n",
       "<style scoped>\n",
       "    .dataframe tbody tr th:only-of-type {\n",
       "        vertical-align: middle;\n",
       "    }\n",
       "\n",
       "    .dataframe tbody tr th {\n",
       "        vertical-align: top;\n",
       "    }\n",
       "\n",
       "    .dataframe thead th {\n",
       "        text-align: right;\n",
       "    }\n",
       "</style>\n",
       "<table border=\"1\" class=\"dataframe\">\n",
       "  <thead>\n",
       "    <tr style=\"text-align: right;\">\n",
       "      <th></th>\n",
       "      <th>datasetId</th>\n",
       "      <th>lang</th>\n",
       "      <th>description</th>\n",
       "      <th>subTitle</th>\n",
       "      <th>status</th>\n",
       "    </tr>\n",
       "  </thead>\n",
       "  <tbody>\n",
       "    <tr>\n",
       "      <th>0</th>\n",
       "      <td>une_rt_m</td>\n",
       "      <td>EN</td>\n",
       "      <td>None</td>\n",
       "      <td>None</td>\n",
       "      <td>{'label': {':': 'not available'}}</td>\n",
       "    </tr>\n",
       "  </tbody>\n",
       "</table>\n",
       "</div>"
      ],
      "text/plain": [
       "  datasetId lang description subTitle                             status\n",
       "0  une_rt_m   EN        None     None  {'label': {':': 'not available'}}"
      ]
     },
     "metadata": {},
     "output_type": "display_data"
    }
   ],
   "source": [
    "df_extension = df.loc['extension'].apply(pd.Series)\n",
    "\n",
    "display(df_extension)"
   ]
  },
  {
   "cell_type": "code",
   "execution_count": 74,
   "metadata": {},
   "outputs": [
    {
     "data": {
      "text/html": [
       "<div>\n",
       "<style scoped>\n",
       "    .dataframe tbody tr th:only-of-type {\n",
       "        vertical-align: middle;\n",
       "    }\n",
       "\n",
       "    .dataframe tbody tr th {\n",
       "        vertical-align: top;\n",
       "    }\n",
       "\n",
       "    .dataframe thead th {\n",
       "        text-align: right;\n",
       "    }\n",
       "</style>\n",
       "<table border=\"1\" class=\"dataframe\">\n",
       "  <thead>\n",
       "    <tr style=\"text-align: right;\">\n",
       "      <th></th>\n",
       "      <th>0</th>\n",
       "      <th>1</th>\n",
       "      <th>2</th>\n",
       "      <th>3</th>\n",
       "      <th>4</th>\n",
       "      <th>5</th>\n",
       "      <th>6</th>\n",
       "      <th>7</th>\n",
       "      <th>8</th>\n",
       "      <th>9</th>\n",
       "      <th>...</th>\n",
       "      <th>11739</th>\n",
       "      <th>11740</th>\n",
       "      <th>11741</th>\n",
       "      <th>11742</th>\n",
       "      <th>11743</th>\n",
       "      <th>11744</th>\n",
       "      <th>11745</th>\n",
       "      <th>11746</th>\n",
       "      <th>11747</th>\n",
       "      <th>11987</th>\n",
       "    </tr>\n",
       "  </thead>\n",
       "  <tbody>\n",
       "    <tr>\n",
       "      <th>0</th>\n",
       "      <td>:</td>\n",
       "      <td>:</td>\n",
       "      <td>:</td>\n",
       "      <td>:</td>\n",
       "      <td>:</td>\n",
       "      <td>:</td>\n",
       "      <td>:</td>\n",
       "      <td>:</td>\n",
       "      <td>:</td>\n",
       "      <td>:</td>\n",
       "      <td>...</td>\n",
       "      <td>:</td>\n",
       "      <td>:</td>\n",
       "      <td>:</td>\n",
       "      <td>:</td>\n",
       "      <td>:</td>\n",
       "      <td>:</td>\n",
       "      <td>:</td>\n",
       "      <td>:</td>\n",
       "      <td>:</td>\n",
       "      <td>:</td>\n",
       "    </tr>\n",
       "  </tbody>\n",
       "</table>\n",
       "<p>1 rows × 5535 columns</p>\n",
       "</div>"
      ],
      "text/plain": [
       "   0  1  2  3  4  5  6  7  8  9  ... 11739 11740 11741 11742 11743 11744  \\\n",
       "0  :  :  :  :  :  :  :  :  :  :  ...     :     :     :     :     :     :   \n",
       "\n",
       "  11745 11746 11747 11987  \n",
       "0     :     :     :     :  \n",
       "\n",
       "[1 rows x 5535 columns]"
      ]
     },
     "metadata": {},
     "output_type": "display_data"
    }
   ],
   "source": [
    "df_status = df.loc['status'].apply(pd.Series)\n",
    "\n",
    "display(df_status)"
   ]
  },
  {
   "cell_type": "code",
   "execution_count": null,
   "metadata": {},
   "outputs": [],
   "source": []
  },
  {
   "cell_type": "markdown",
   "metadata": {},
   "source": [
    "# Read from manually downloaded csv"
   ]
  },
  {
   "cell_type": "code",
   "execution_count": 22,
   "metadata": {
    "scrolled": true
   },
   "outputs": [
    {
     "data": {
      "text/html": [
       "<div>\n",
       "<style scoped>\n",
       "    .dataframe tbody tr th:only-of-type {\n",
       "        vertical-align: middle;\n",
       "    }\n",
       "\n",
       "    .dataframe tbody tr th {\n",
       "        vertical-align: top;\n",
       "    }\n",
       "\n",
       "    .dataframe thead th {\n",
       "        text-align: right;\n",
       "    }\n",
       "</style>\n",
       "<table border=\"1\" class=\"dataframe\">\n",
       "  <thead>\n",
       "    <tr style=\"text-align: right;\">\n",
       "      <th></th>\n",
       "      <th>TIME</th>\n",
       "      <th>GEO</th>\n",
       "      <th>S_ADJ</th>\n",
       "      <th>AGE</th>\n",
       "      <th>UNIT</th>\n",
       "      <th>SEX</th>\n",
       "      <th>Value</th>\n",
       "    </tr>\n",
       "  </thead>\n",
       "  <tbody>\n",
       "    <tr>\n",
       "      <th>0</th>\n",
       "      <td>1983M01</td>\n",
       "      <td>European Union (current composition)</td>\n",
       "      <td>Seasonally adjusted data, not calendar adjuste...</td>\n",
       "      <td>Total</td>\n",
       "      <td>Thousand persons</td>\n",
       "      <td>Total</td>\n",
       "      <td>:</td>\n",
       "    </tr>\n",
       "    <tr>\n",
       "      <th>1</th>\n",
       "      <td>1983M01</td>\n",
       "      <td>European Union (current composition)</td>\n",
       "      <td>Seasonally adjusted data, not calendar adjuste...</td>\n",
       "      <td>Total</td>\n",
       "      <td>Thousand persons</td>\n",
       "      <td>Males</td>\n",
       "      <td>:</td>\n",
       "    </tr>\n",
       "    <tr>\n",
       "      <th>2</th>\n",
       "      <td>1983M01</td>\n",
       "      <td>European Union (current composition)</td>\n",
       "      <td>Seasonally adjusted data, not calendar adjuste...</td>\n",
       "      <td>Total</td>\n",
       "      <td>Thousand persons</td>\n",
       "      <td>Females</td>\n",
       "      <td>:</td>\n",
       "    </tr>\n",
       "    <tr>\n",
       "      <th>3</th>\n",
       "      <td>1983M01</td>\n",
       "      <td>European Union (current composition)</td>\n",
       "      <td>Seasonally adjusted data, not calendar adjuste...</td>\n",
       "      <td>Total</td>\n",
       "      <td>Percentage of active population</td>\n",
       "      <td>Total</td>\n",
       "      <td>:</td>\n",
       "    </tr>\n",
       "    <tr>\n",
       "      <th>4</th>\n",
       "      <td>1983M01</td>\n",
       "      <td>European Union (current composition)</td>\n",
       "      <td>Seasonally adjusted data, not calendar adjuste...</td>\n",
       "      <td>Total</td>\n",
       "      <td>Percentage of active population</td>\n",
       "      <td>Males</td>\n",
       "      <td>:</td>\n",
       "    </tr>\n",
       "  </tbody>\n",
       "</table>\n",
       "</div>"
      ],
      "text/plain": [
       "      TIME                                   GEO  \\\n",
       "0  1983M01  European Union (current composition)   \n",
       "1  1983M01  European Union (current composition)   \n",
       "2  1983M01  European Union (current composition)   \n",
       "3  1983M01  European Union (current composition)   \n",
       "4  1983M01  European Union (current composition)   \n",
       "\n",
       "                                               S_ADJ    AGE  \\\n",
       "0  Seasonally adjusted data, not calendar adjuste...  Total   \n",
       "1  Seasonally adjusted data, not calendar adjuste...  Total   \n",
       "2  Seasonally adjusted data, not calendar adjuste...  Total   \n",
       "3  Seasonally adjusted data, not calendar adjuste...  Total   \n",
       "4  Seasonally adjusted data, not calendar adjuste...  Total   \n",
       "\n",
       "                              UNIT      SEX Value  \n",
       "0                 Thousand persons    Total     :  \n",
       "1                 Thousand persons    Males     :  \n",
       "2                 Thousand persons  Females     :  \n",
       "3  Percentage of active population    Total     :  \n",
       "4  Percentage of active population    Males     :  "
      ]
     },
     "execution_count": 22,
     "metadata": {},
     "output_type": "execute_result"
    }
   ],
   "source": [
    "une_rt_m_1_Data = pd.read_csv('data/une_rt_m_1_Data.csv')\n",
    "une_rt_m_1_Data.head()"
   ]
  },
  {
   "cell_type": "code",
   "execution_count": 23,
   "metadata": {},
   "outputs": [
    {
     "data": {
      "text/html": [
       "<div>\n",
       "<style scoped>\n",
       "    .dataframe tbody tr th:only-of-type {\n",
       "        vertical-align: middle;\n",
       "    }\n",
       "\n",
       "    .dataframe tbody tr th {\n",
       "        vertical-align: top;\n",
       "    }\n",
       "\n",
       "    .dataframe thead th {\n",
       "        text-align: right;\n",
       "    }\n",
       "</style>\n",
       "<table border=\"1\" class=\"dataframe\">\n",
       "  <thead>\n",
       "    <tr style=\"text-align: right;\">\n",
       "      <th></th>\n",
       "      <th>TIME</th>\n",
       "      <th>GEO</th>\n",
       "      <th>S_ADJ</th>\n",
       "      <th>AGE</th>\n",
       "      <th>UNIT</th>\n",
       "      <th>SEX</th>\n",
       "      <th>Value</th>\n",
       "    </tr>\n",
       "  </thead>\n",
       "  <tbody>\n",
       "    <tr>\n",
       "      <th>count</th>\n",
       "      <td>270270</td>\n",
       "      <td>270270</td>\n",
       "      <td>270270</td>\n",
       "      <td>270270</td>\n",
       "      <td>270270</td>\n",
       "      <td>270270</td>\n",
       "      <td>270270</td>\n",
       "    </tr>\n",
       "    <tr>\n",
       "      <th>unique</th>\n",
       "      <td>429</td>\n",
       "      <td>35</td>\n",
       "      <td>1</td>\n",
       "      <td>3</td>\n",
       "      <td>2</td>\n",
       "      <td>3</td>\n",
       "      <td>7962</td>\n",
       "    </tr>\n",
       "    <tr>\n",
       "      <th>top</th>\n",
       "      <td>2008M10</td>\n",
       "      <td>France</td>\n",
       "      <td>Seasonally adjusted data, not calendar adjuste...</td>\n",
       "      <td>From 25 to 74 years</td>\n",
       "      <td>Percentage of active population</td>\n",
       "      <td>Total</td>\n",
       "      <td>:</td>\n",
       "    </tr>\n",
       "    <tr>\n",
       "      <th>freq</th>\n",
       "      <td>630</td>\n",
       "      <td>7722</td>\n",
       "      <td>270270</td>\n",
       "      <td>90090</td>\n",
       "      <td>135135</td>\n",
       "      <td>90090</td>\n",
       "      <td>74888</td>\n",
       "    </tr>\n",
       "  </tbody>\n",
       "</table>\n",
       "</div>"
      ],
      "text/plain": [
       "           TIME     GEO                                              S_ADJ  \\\n",
       "count    270270  270270                                             270270   \n",
       "unique      429      35                                                  1   \n",
       "top     2008M10  France  Seasonally adjusted data, not calendar adjuste...   \n",
       "freq        630    7722                                             270270   \n",
       "\n",
       "                        AGE                             UNIT     SEX   Value  \n",
       "count                270270                           270270  270270  270270  \n",
       "unique                    3                                2       3    7962  \n",
       "top     From 25 to 74 years  Percentage of active population   Total       :  \n",
       "freq                  90090                           135135   90090   74888  "
      ]
     },
     "execution_count": 23,
     "metadata": {},
     "output_type": "execute_result"
    }
   ],
   "source": [
    "une_rt_m_1_Data.describe()"
   ]
  },
  {
   "cell_type": "code",
   "execution_count": null,
   "metadata": {},
   "outputs": [],
   "source": []
  },
  {
   "cell_type": "code",
   "execution_count": null,
   "metadata": {},
   "outputs": [],
   "source": []
  },
  {
   "cell_type": "code",
   "execution_count": null,
   "metadata": {},
   "outputs": [],
   "source": []
  },
  {
   "cell_type": "code",
   "execution_count": null,
   "metadata": {},
   "outputs": [],
   "source": []
  },
  {
   "cell_type": "code",
   "execution_count": null,
   "metadata": {},
   "outputs": [],
   "source": []
  },
  {
   "cell_type": "markdown",
   "metadata": {},
   "source": [
    "## Data Wrangling"
   ]
  },
  {
   "cell_type": "code",
   "execution_count": 75,
   "metadata": {},
   "outputs": [],
   "source": [
    "df = une_rt_m_1_Data"
   ]
  },
  {
   "cell_type": "code",
   "execution_count": 76,
   "metadata": {
    "scrolled": true
   },
   "outputs": [],
   "source": [
    "del df['S_ADJ']\n",
    "del df['UNIT']"
   ]
  },
  {
   "cell_type": "code",
   "execution_count": 77,
   "metadata": {
    "scrolled": true
   },
   "outputs": [],
   "source": [
    "df['GEO'].replace(\n",
    "    to_replace = 'Germany (until 1990 former territory of the FRG)', \n",
    "    value='Germany', inplace=True)"
   ]
  },
  {
   "cell_type": "code",
   "execution_count": 78,
   "metadata": {},
   "outputs": [
    {
     "data": {
      "text/plain": [
       "array(['European Union (current composition)', 'Euro area (19 countries)',\n",
       "       'Belgium', 'Bulgaria', 'Czechia', 'Denmark', 'Germany', 'Estonia',\n",
       "       'Ireland', 'Greece', 'Spain', 'France', 'Croatia', 'Italy',\n",
       "       'Cyprus', 'Latvia', 'Lithuania', 'Luxembourg', 'Hungary', 'Malta',\n",
       "       'Netherlands', 'Austria', 'Poland', 'Portugal', 'Romania',\n",
       "       'Slovenia', 'Slovakia', 'Finland', 'Sweden', 'United Kingdom',\n",
       "       'Iceland', 'Norway', 'Turkey', 'United States', 'Japan'],\n",
       "      dtype=object)"
      ]
     },
     "execution_count": 78,
     "metadata": {},
     "output_type": "execute_result"
    }
   ],
   "source": [
    "df.GEO.unique()"
   ]
  },
  {
   "cell_type": "code",
   "execution_count": 79,
   "metadata": {
    "scrolled": true
   },
   "outputs": [
    {
     "data": {
      "text/html": [
       "<div>\n",
       "<style scoped>\n",
       "    .dataframe tbody tr th:only-of-type {\n",
       "        vertical-align: middle;\n",
       "    }\n",
       "\n",
       "    .dataframe tbody tr th {\n",
       "        vertical-align: top;\n",
       "    }\n",
       "\n",
       "    .dataframe thead th {\n",
       "        text-align: right;\n",
       "    }\n",
       "</style>\n",
       "<table border=\"1\" class=\"dataframe\">\n",
       "  <thead>\n",
       "    <tr style=\"text-align: right;\">\n",
       "      <th></th>\n",
       "      <th></th>\n",
       "      <th>Value</th>\n",
       "    </tr>\n",
       "    <tr>\n",
       "      <th>TIME</th>\n",
       "      <th>GEO</th>\n",
       "      <th></th>\n",
       "    </tr>\n",
       "  </thead>\n",
       "  <tbody>\n",
       "    <tr>\n",
       "      <th rowspan=\"5\" valign=\"top\">1983M01</th>\n",
       "      <th>Austria</th>\n",
       "      <td>::::::::::::::::::</td>\n",
       "    </tr>\n",
       "    <tr>\n",
       "      <th>Belgium</th>\n",
       "      <td>::::::::::::::::::</td>\n",
       "    </tr>\n",
       "    <tr>\n",
       "      <th>Bulgaria</th>\n",
       "      <td>::::::::::::::::::</td>\n",
       "    </tr>\n",
       "    <tr>\n",
       "      <th>Croatia</th>\n",
       "      <td>::::::::::::::::::</td>\n",
       "    </tr>\n",
       "    <tr>\n",
       "      <th>Cyprus</th>\n",
       "      <td>::::::::::::::::::</td>\n",
       "    </tr>\n",
       "    <tr>\n",
       "      <th>...</th>\n",
       "      <th>...</th>\n",
       "      <td>...</td>\n",
       "    </tr>\n",
       "    <tr>\n",
       "      <th rowspan=\"5\" valign=\"top\">2018M09</th>\n",
       "      <th>Spain</th>\n",
       "      <td>::::::::::::::::::</td>\n",
       "    </tr>\n",
       "    <tr>\n",
       "      <th>Sweden</th>\n",
       "      <td>::::::::::::::::::</td>\n",
       "    </tr>\n",
       "    <tr>\n",
       "      <th>Turkey</th>\n",
       "      <td>::::::::::::::::::</td>\n",
       "    </tr>\n",
       "    <tr>\n",
       "      <th>United Kingdom</th>\n",
       "      <td>::::::::::::::::::</td>\n",
       "    </tr>\n",
       "    <tr>\n",
       "      <th>United States</th>\n",
       "      <td>::::::::::::::::::</td>\n",
       "    </tr>\n",
       "  </tbody>\n",
       "</table>\n",
       "<p>15015 rows × 1 columns</p>\n",
       "</div>"
      ],
      "text/plain": [
       "                                     Value\n",
       "TIME    GEO                               \n",
       "1983M01 Austria         ::::::::::::::::::\n",
       "        Belgium         ::::::::::::::::::\n",
       "        Bulgaria        ::::::::::::::::::\n",
       "        Croatia         ::::::::::::::::::\n",
       "        Cyprus          ::::::::::::::::::\n",
       "...                                    ...\n",
       "2018M09 Spain           ::::::::::::::::::\n",
       "        Sweden          ::::::::::::::::::\n",
       "        Turkey          ::::::::::::::::::\n",
       "        United Kingdom  ::::::::::::::::::\n",
       "        United States   ::::::::::::::::::\n",
       "\n",
       "[15015 rows x 1 columns]"
      ]
     },
     "execution_count": 79,
     "metadata": {},
     "output_type": "execute_result"
    }
   ],
   "source": [
    "g = df[['TIME', 'GEO', 'Value']].groupby(['TIME','GEO'])\n",
    "g.sum()"
   ]
  },
  {
   "cell_type": "code",
   "execution_count": 80,
   "metadata": {},
   "outputs": [
    {
     "data": {
      "text/html": [
       "<div>\n",
       "<style scoped>\n",
       "    .dataframe tbody tr th:only-of-type {\n",
       "        vertical-align: middle;\n",
       "    }\n",
       "\n",
       "    .dataframe tbody tr th {\n",
       "        vertical-align: top;\n",
       "    }\n",
       "\n",
       "    .dataframe thead th {\n",
       "        text-align: right;\n",
       "    }\n",
       "</style>\n",
       "<table border=\"1\" class=\"dataframe\">\n",
       "  <thead>\n",
       "    <tr style=\"text-align: right;\">\n",
       "      <th></th>\n",
       "      <th></th>\n",
       "      <th>AGE</th>\n",
       "      <th>SEX</th>\n",
       "      <th>Value</th>\n",
       "    </tr>\n",
       "    <tr>\n",
       "      <th>TIME</th>\n",
       "      <th>GEO</th>\n",
       "      <th></th>\n",
       "      <th></th>\n",
       "      <th></th>\n",
       "    </tr>\n",
       "  </thead>\n",
       "  <tbody>\n",
       "    <tr>\n",
       "      <th rowspan=\"5\" valign=\"top\">1983M01</th>\n",
       "      <th>Austria</th>\n",
       "      <td>TotalTotalTotalTotalTotalTotalLess than 25 yea...</td>\n",
       "      <td>TotalMalesFemalesTotalMalesFemalesTotalMalesFe...</td>\n",
       "      <td>::::::::::::::::::</td>\n",
       "    </tr>\n",
       "    <tr>\n",
       "      <th>Belgium</th>\n",
       "      <td>TotalTotalTotalTotalTotalTotalLess than 25 yea...</td>\n",
       "      <td>TotalMalesFemalesTotalMalesFemalesTotalMalesFe...</td>\n",
       "      <td>::::::::::::::::::</td>\n",
       "    </tr>\n",
       "    <tr>\n",
       "      <th>Bulgaria</th>\n",
       "      <td>TotalTotalTotalTotalTotalTotalLess than 25 yea...</td>\n",
       "      <td>TotalMalesFemalesTotalMalesFemalesTotalMalesFe...</td>\n",
       "      <td>::::::::::::::::::</td>\n",
       "    </tr>\n",
       "    <tr>\n",
       "      <th>Croatia</th>\n",
       "      <td>TotalTotalTotalTotalTotalTotalLess than 25 yea...</td>\n",
       "      <td>TotalMalesFemalesTotalMalesFemalesTotalMalesFe...</td>\n",
       "      <td>::::::::::::::::::</td>\n",
       "    </tr>\n",
       "    <tr>\n",
       "      <th>Cyprus</th>\n",
       "      <td>TotalTotalTotalTotalTotalTotalLess than 25 yea...</td>\n",
       "      <td>TotalMalesFemalesTotalMalesFemalesTotalMalesFe...</td>\n",
       "      <td>::::::::::::::::::</td>\n",
       "    </tr>\n",
       "    <tr>\n",
       "      <th>...</th>\n",
       "      <th>...</th>\n",
       "      <td>...</td>\n",
       "      <td>...</td>\n",
       "      <td>...</td>\n",
       "    </tr>\n",
       "    <tr>\n",
       "      <th rowspan=\"5\" valign=\"top\">2018M09</th>\n",
       "      <th>Spain</th>\n",
       "      <td>TotalTotalTotalTotalTotalTotalLess than 25 yea...</td>\n",
       "      <td>TotalMalesFemalesTotalMalesFemalesTotalMalesFe...</td>\n",
       "      <td>::::::::::::::::::</td>\n",
       "    </tr>\n",
       "    <tr>\n",
       "      <th>Sweden</th>\n",
       "      <td>TotalTotalTotalTotalTotalTotalLess than 25 yea...</td>\n",
       "      <td>TotalMalesFemalesTotalMalesFemalesTotalMalesFe...</td>\n",
       "      <td>::::::::::::::::::</td>\n",
       "    </tr>\n",
       "    <tr>\n",
       "      <th>Turkey</th>\n",
       "      <td>TotalTotalTotalTotalTotalTotalLess than 25 yea...</td>\n",
       "      <td>TotalMalesFemalesTotalMalesFemalesTotalMalesFe...</td>\n",
       "      <td>::::::::::::::::::</td>\n",
       "    </tr>\n",
       "    <tr>\n",
       "      <th>United Kingdom</th>\n",
       "      <td>TotalTotalTotalTotalTotalTotalLess than 25 yea...</td>\n",
       "      <td>TotalMalesFemalesTotalMalesFemalesTotalMalesFe...</td>\n",
       "      <td>::::::::::::::::::</td>\n",
       "    </tr>\n",
       "    <tr>\n",
       "      <th>United States</th>\n",
       "      <td>TotalTotalTotalTotalTotalTotalLess than 25 yea...</td>\n",
       "      <td>TotalMalesFemalesTotalMalesFemalesTotalMalesFe...</td>\n",
       "      <td>::::::::::::::::::</td>\n",
       "    </tr>\n",
       "  </tbody>\n",
       "</table>\n",
       "<p>15015 rows × 3 columns</p>\n",
       "</div>"
      ],
      "text/plain": [
       "                                                                      AGE  \\\n",
       "TIME    GEO                                                                 \n",
       "1983M01 Austria         TotalTotalTotalTotalTotalTotalLess than 25 yea...   \n",
       "        Belgium         TotalTotalTotalTotalTotalTotalLess than 25 yea...   \n",
       "        Bulgaria        TotalTotalTotalTotalTotalTotalLess than 25 yea...   \n",
       "        Croatia         TotalTotalTotalTotalTotalTotalLess than 25 yea...   \n",
       "        Cyprus          TotalTotalTotalTotalTotalTotalLess than 25 yea...   \n",
       "...                                                                   ...   \n",
       "2018M09 Spain           TotalTotalTotalTotalTotalTotalLess than 25 yea...   \n",
       "        Sweden          TotalTotalTotalTotalTotalTotalLess than 25 yea...   \n",
       "        Turkey          TotalTotalTotalTotalTotalTotalLess than 25 yea...   \n",
       "        United Kingdom  TotalTotalTotalTotalTotalTotalLess than 25 yea...   \n",
       "        United States   TotalTotalTotalTotalTotalTotalLess than 25 yea...   \n",
       "\n",
       "                                                                      SEX  \\\n",
       "TIME    GEO                                                                 \n",
       "1983M01 Austria         TotalMalesFemalesTotalMalesFemalesTotalMalesFe...   \n",
       "        Belgium         TotalMalesFemalesTotalMalesFemalesTotalMalesFe...   \n",
       "        Bulgaria        TotalMalesFemalesTotalMalesFemalesTotalMalesFe...   \n",
       "        Croatia         TotalMalesFemalesTotalMalesFemalesTotalMalesFe...   \n",
       "        Cyprus          TotalMalesFemalesTotalMalesFemalesTotalMalesFe...   \n",
       "...                                                                   ...   \n",
       "2018M09 Spain           TotalMalesFemalesTotalMalesFemalesTotalMalesFe...   \n",
       "        Sweden          TotalMalesFemalesTotalMalesFemalesTotalMalesFe...   \n",
       "        Turkey          TotalMalesFemalesTotalMalesFemalesTotalMalesFe...   \n",
       "        United Kingdom  TotalMalesFemalesTotalMalesFemalesTotalMalesFe...   \n",
       "        United States   TotalMalesFemalesTotalMalesFemalesTotalMalesFe...   \n",
       "\n",
       "                                     Value  \n",
       "TIME    GEO                                 \n",
       "1983M01 Austria         ::::::::::::::::::  \n",
       "        Belgium         ::::::::::::::::::  \n",
       "        Bulgaria        ::::::::::::::::::  \n",
       "        Croatia         ::::::::::::::::::  \n",
       "        Cyprus          ::::::::::::::::::  \n",
       "...                                    ...  \n",
       "2018M09 Spain           ::::::::::::::::::  \n",
       "        Sweden          ::::::::::::::::::  \n",
       "        Turkey          ::::::::::::::::::  \n",
       "        United Kingdom  ::::::::::::::::::  \n",
       "        United States   ::::::::::::::::::  \n",
       "\n",
       "[15015 rows x 3 columns]"
      ]
     },
     "execution_count": 80,
     "metadata": {},
     "output_type": "execute_result"
    }
   ],
   "source": [
    "g = df.groupby(['TIME','GEO'])\n",
    "g.sum()"
   ]
  },
  {
   "cell_type": "code",
   "execution_count": 81,
   "metadata": {
    "scrolled": true
   },
   "outputs": [],
   "source": [
    "germany = df[(df.GEO == 'Germany')]"
   ]
  },
  {
   "cell_type": "code",
   "execution_count": 82,
   "metadata": {},
   "outputs": [
    {
     "ename": "KeyError",
     "evalue": "'Time'",
     "output_type": "error",
     "traceback": [
      "\u001b[0;31m---------------------------------------------------------------------------\u001b[0m",
      "\u001b[0;31mKeyError\u001b[0m                                  Traceback (most recent call last)",
      "\u001b[0;32m<ipython-input-82-ca52cbfcd18d>\u001b[0m in \u001b[0;36m<module>\u001b[0;34m\u001b[0m\n\u001b[0;32m----> 1\u001b[0;31m \u001b[0mgermany\u001b[0m\u001b[0;34m.\u001b[0m\u001b[0mgroupby\u001b[0m\u001b[0;34m(\u001b[0m\u001b[0;34m[\u001b[0m\u001b[0;34m'Time'\u001b[0m\u001b[0;34m,\u001b[0m\u001b[0;34m''\u001b[0m\u001b[0;34m]\u001b[0m\u001b[0;34m)\u001b[0m\u001b[0;34m\u001b[0m\u001b[0;34m\u001b[0m\u001b[0m\n\u001b[0m",
      "\u001b[0;32m~/anaconda3/envs/eurostat/lib/python3.8/site-packages/pandas/core/generic.py\u001b[0m in \u001b[0;36mgroupby\u001b[0;34m(self, by, axis, level, as_index, sort, group_keys, squeeze, observed, **kwargs)\u001b[0m\n\u001b[1;32m   7882\u001b[0m             \u001b[0;32mraise\u001b[0m \u001b[0mTypeError\u001b[0m\u001b[0;34m(\u001b[0m\u001b[0;34m\"You have to supply one of 'by' and 'level'\"\u001b[0m\u001b[0;34m)\u001b[0m\u001b[0;34m\u001b[0m\u001b[0;34m\u001b[0m\u001b[0m\n\u001b[1;32m   7883\u001b[0m         \u001b[0maxis\u001b[0m \u001b[0;34m=\u001b[0m \u001b[0mself\u001b[0m\u001b[0;34m.\u001b[0m\u001b[0m_get_axis_number\u001b[0m\u001b[0;34m(\u001b[0m\u001b[0maxis\u001b[0m\u001b[0;34m)\u001b[0m\u001b[0;34m\u001b[0m\u001b[0;34m\u001b[0m\u001b[0m\n\u001b[0;32m-> 7884\u001b[0;31m         return groupby(\n\u001b[0m\u001b[1;32m   7885\u001b[0m             \u001b[0mself\u001b[0m\u001b[0;34m,\u001b[0m\u001b[0;34m\u001b[0m\u001b[0;34m\u001b[0m\u001b[0m\n\u001b[1;32m   7886\u001b[0m             \u001b[0mby\u001b[0m\u001b[0;34m=\u001b[0m\u001b[0mby\u001b[0m\u001b[0;34m,\u001b[0m\u001b[0;34m\u001b[0m\u001b[0;34m\u001b[0m\u001b[0m\n",
      "\u001b[0;32m~/anaconda3/envs/eurostat/lib/python3.8/site-packages/pandas/core/groupby/groupby.py\u001b[0m in \u001b[0;36mgroupby\u001b[0;34m(obj, by, **kwds)\u001b[0m\n\u001b[1;32m   2520\u001b[0m         \u001b[0;32mraise\u001b[0m \u001b[0mTypeError\u001b[0m\u001b[0;34m(\u001b[0m\u001b[0;34m\"invalid type: {}\"\u001b[0m\u001b[0;34m.\u001b[0m\u001b[0mformat\u001b[0m\u001b[0;34m(\u001b[0m\u001b[0mobj\u001b[0m\u001b[0;34m)\u001b[0m\u001b[0;34m)\u001b[0m\u001b[0;34m\u001b[0m\u001b[0;34m\u001b[0m\u001b[0m\n\u001b[1;32m   2521\u001b[0m \u001b[0;34m\u001b[0m\u001b[0m\n\u001b[0;32m-> 2522\u001b[0;31m     \u001b[0;32mreturn\u001b[0m \u001b[0mklass\u001b[0m\u001b[0;34m(\u001b[0m\u001b[0mobj\u001b[0m\u001b[0;34m,\u001b[0m \u001b[0mby\u001b[0m\u001b[0;34m,\u001b[0m \u001b[0;34m**\u001b[0m\u001b[0mkwds\u001b[0m\u001b[0;34m)\u001b[0m\u001b[0;34m\u001b[0m\u001b[0;34m\u001b[0m\u001b[0m\n\u001b[0m",
      "\u001b[0;32m~/anaconda3/envs/eurostat/lib/python3.8/site-packages/pandas/core/groupby/groupby.py\u001b[0m in \u001b[0;36m__init__\u001b[0;34m(self, obj, keys, axis, level, grouper, exclusions, selection, as_index, sort, group_keys, squeeze, observed, **kwargs)\u001b[0m\n\u001b[1;32m    382\u001b[0m             \u001b[0;32mfrom\u001b[0m \u001b[0mpandas\u001b[0m\u001b[0;34m.\u001b[0m\u001b[0mcore\u001b[0m\u001b[0;34m.\u001b[0m\u001b[0mgroupby\u001b[0m\u001b[0;34m.\u001b[0m\u001b[0mgrouper\u001b[0m \u001b[0;32mimport\u001b[0m \u001b[0m_get_grouper\u001b[0m\u001b[0;34m\u001b[0m\u001b[0;34m\u001b[0m\u001b[0m\n\u001b[1;32m    383\u001b[0m \u001b[0;34m\u001b[0m\u001b[0m\n\u001b[0;32m--> 384\u001b[0;31m             grouper, exclusions, obj = _get_grouper(\n\u001b[0m\u001b[1;32m    385\u001b[0m                 \u001b[0mobj\u001b[0m\u001b[0;34m,\u001b[0m\u001b[0;34m\u001b[0m\u001b[0;34m\u001b[0m\u001b[0m\n\u001b[1;32m    386\u001b[0m                 \u001b[0mkeys\u001b[0m\u001b[0;34m,\u001b[0m\u001b[0;34m\u001b[0m\u001b[0;34m\u001b[0m\u001b[0m\n",
      "\u001b[0;32m~/anaconda3/envs/eurostat/lib/python3.8/site-packages/pandas/core/groupby/grouper.py\u001b[0m in \u001b[0;36m_get_grouper\u001b[0;34m(obj, key, axis, level, sort, observed, mutated, validate)\u001b[0m\n\u001b[1;32m    619\u001b[0m                 \u001b[0min_axis\u001b[0m\u001b[0;34m,\u001b[0m \u001b[0mname\u001b[0m\u001b[0;34m,\u001b[0m \u001b[0mlevel\u001b[0m\u001b[0;34m,\u001b[0m \u001b[0mgpr\u001b[0m \u001b[0;34m=\u001b[0m \u001b[0;32mFalse\u001b[0m\u001b[0;34m,\u001b[0m \u001b[0;32mNone\u001b[0m\u001b[0;34m,\u001b[0m \u001b[0mgpr\u001b[0m\u001b[0;34m,\u001b[0m \u001b[0;32mNone\u001b[0m\u001b[0;34m\u001b[0m\u001b[0;34m\u001b[0m\u001b[0m\n\u001b[1;32m    620\u001b[0m             \u001b[0;32melse\u001b[0m\u001b[0;34m:\u001b[0m\u001b[0;34m\u001b[0m\u001b[0;34m\u001b[0m\u001b[0m\n\u001b[0;32m--> 621\u001b[0;31m                 \u001b[0;32mraise\u001b[0m \u001b[0mKeyError\u001b[0m\u001b[0;34m(\u001b[0m\u001b[0mgpr\u001b[0m\u001b[0;34m)\u001b[0m\u001b[0;34m\u001b[0m\u001b[0;34m\u001b[0m\u001b[0m\n\u001b[0m\u001b[1;32m    622\u001b[0m         \u001b[0;32melif\u001b[0m \u001b[0misinstance\u001b[0m\u001b[0;34m(\u001b[0m\u001b[0mgpr\u001b[0m\u001b[0;34m,\u001b[0m \u001b[0mGrouper\u001b[0m\u001b[0;34m)\u001b[0m \u001b[0;32mand\u001b[0m \u001b[0mgpr\u001b[0m\u001b[0;34m.\u001b[0m\u001b[0mkey\u001b[0m \u001b[0;32mis\u001b[0m \u001b[0;32mnot\u001b[0m \u001b[0;32mNone\u001b[0m\u001b[0;34m:\u001b[0m\u001b[0;34m\u001b[0m\u001b[0;34m\u001b[0m\u001b[0m\n\u001b[1;32m    623\u001b[0m             \u001b[0;31m# Add key to exclusions\u001b[0m\u001b[0;34m\u001b[0m\u001b[0;34m\u001b[0m\u001b[0;34m\u001b[0m\u001b[0m\n",
      "\u001b[0;31mKeyError\u001b[0m: 'Time'"
     ]
    }
   ],
   "source": [
    "germany.groupby(['Time',''])"
   ]
  },
  {
   "cell_type": "code",
   "execution_count": null,
   "metadata": {},
   "outputs": [],
   "source": []
  }
 ],
 "metadata": {
  "kernelspec": {
   "display_name": "Python 3",
   "language": "python",
   "name": "python3"
  },
  "language_info": {
   "codemirror_mode": {
    "name": "ipython",
    "version": 3
   },
   "file_extension": ".py",
   "mimetype": "text/x-python",
   "name": "python",
   "nbconvert_exporter": "python",
   "pygments_lexer": "ipython3",
   "version": "3.8.0"
  }
 },
 "nbformat": 4,
 "nbformat_minor": 4
}
